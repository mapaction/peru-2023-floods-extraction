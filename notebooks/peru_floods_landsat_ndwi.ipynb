{
 "cells": [
  {
   "cell_type": "markdown",
   "metadata": {},
   "source": [
    "[![Colab](https://colab.research.google.com/assets/colab-badge.svg)](https://colab.research.google.com/github/giswqs/notebook-share/blob/master/docs/pakistan_floods.ipynb)\n",
    "[![Open in SageMaker Studio Lab](https://studiolab.sagemaker.aws/studiolab.svg)](https://studiolab.sagemaker.aws/import/github/giswqs/notebook-share/blob/master/docs/pakistan_floods.ipynb)\n",
    "[![Open in Planetary Computer](https://img.shields.io/badge/Open-Planetary%20Computer-black?style=flat&logo=microsoft)](https://pccompute.westeurope.cloudapp.azure.com/compute/hub/user-redirect/git-pull?repo=https://github.com/giswqs/notebook-share&urlpath=lab/tree/notebook-share/docs/pakistan_floods.ipynb&branch=master)\n",
    "[![Binder](https://mybinder.org/badge_logo.svg)](https://mybinder.org/v2/gh/giswqs/notebook-share/HEAD?labpath=docs%pakistan_floods.ipynb)"
   ]
  },
  {
   "cell_type": "markdown",
   "metadata": {},
   "source": [
    "# Peru Floods 2022 Using Earth Engine and Geemap - Landsat 8\n",
    "\n"
   ]
  },
  {
   "cell_type": "markdown",
   "metadata": {},
   "source": [
    "## Import libraries"
   ]
  },
  {
   "cell_type": "code",
   "execution_count": 1,
   "metadata": {},
   "outputs": [],
   "source": [
    "import ee\n",
    "import geemap"
   ]
  },
  {
   "cell_type": "code",
   "execution_count": 2,
   "metadata": {},
   "outputs": [],
   "source": [
    "pre_flood_start_date = '2022-09-01'\n",
    "pre_flood_end_date = '2022-11-30'\n",
    "flood_start_date = '2023-02-01'\n",
    "flood_end_date = '2023-04-16'"
   ]
  },
  {
   "cell_type": "markdown",
   "metadata": {},
   "source": [
    "## Create Landsat composites\n",
    "\n",
    "Create a Landsat 8 composite for the pre-flood period in the dry season (September to November, 2022) and the flooding period (February to April) using the [USGS Landsat 8 Collection 2 Tier 1 Raw Scenes](https://developers.google.com/earth-engine/datasets/catalog/LANDSAT_LC08_C02_T1)."
   ]
  },
  {
   "cell_type": "code",
   "execution_count": 3,
   "metadata": {},
   "outputs": [
    {
     "data": {
      "application/vnd.jupyter.widget-view+json": {
       "model_id": "f4315aa0d1454bd88401b61e1d135544",
       "version_major": 2,
       "version_minor": 0
      },
      "text/plain": [
       "Map(center=[20, 0], controls=(WidgetControl(options=['position', 'transparent_bg'], widget=HBox(children=(Togg…"
      ]
     },
     "metadata": {},
     "output_type": "display_data"
    }
   ],
   "source": [
    "Map = geemap.Map()\n",
    "\n",
    "# Get Peru bounds\n",
    "country_name = 'Peru'\n",
    "\n",
    "country = ee.FeatureCollection('USDOS/LSIB_SIMPLE/2017').filter(\n",
    "    ee.Filter.eq('country_na', country_name)\n",
    ")\n",
    "\n",
    "# Pre-flood\n",
    "landsat_col_2022 = (\n",
    "    ee.ImageCollection('LANDSAT/LC08/C02/T1')\n",
    "    .filterDate(pre_flood_start_date, pre_flood_end_date)\n",
    "    .filterBounds(country)\n",
    ")\n",
    "landsat_2022 = ee.Algorithms.Landsat.simpleComposite(landsat_col_2022).clipToCollection(\n",
    "    country\n",
    ")\n",
    "\n",
    "# Post-flood\n",
    "landsat_col_2023 = (\n",
    "    ee.ImageCollection('LANDSAT/LC08/C02/T1')\n",
    "    .filterDate(flood_start_date, flood_end_date)\n",
    "    .filterBounds(country)\n",
    ")\n",
    "landsat_2023 = ee.Algorithms.Landsat.simpleComposite(landsat_col_2023).clipToCollection(\n",
    "    country\n",
    ")\n",
    "\n",
    "# Display on a map\n",
    "style = {'color': 'black', 'fillColor': '00000000'}\n",
    "Map.addLayer(country.style(**style), {}, country_name)\n",
    "\n",
    "vis_params = {'bands': ['B6', 'B5', 'B4'], 'max': 128}\n",
    "Map.addLayer(landsat_2022, vis_params, 'Landsat 2022')\n",
    "Map.addLayer(landsat_2023, vis_params, 'Landsat 2023')\n",
    "\n",
    "Map.centerObject(country)\n",
    "Map"
   ]
  },
  {
   "cell_type": "markdown",
   "metadata": {},
   "source": [
    "## Compute Normalized Difference Water Index (NDWI) and Modified NDWI (MNDWI)\n",
    "\n",
    "The [Normalized Difference Water Index](https://en.wikipedia.org/wiki/Normalized_difference_water_index) (NDWI) is a commonly used index for detecting water bodies. It is calculated as follows:\n",
    "\n",
    "$$NDWI = \\frac{Green - NIR}{Green + NIR}$$\n",
    "\n",
    "where Green is the green band and NIR is the near-infrared band. The NDWI values range from -1 to 1. The NDWI values are usually thresholded to a positive number (e.g., 0.1-0.3) to identify water bodies.\n",
    "\n",
    "[MNDWI](https://www.space4water.org/taxonomy/term/1246) uses green and SWIR bands for the enhancement of open water features. It also diminishes built-up area features that are often correlated with open water in other indices.\n",
    "\n",
    "Landsat 8 imagery has [11 spectral bands](https://developers.google.com/earth-engine/datasets/catalog/LANDSAT_LC08_C02_T1#bands). The Landsat 8 NDWI is calculated using the green (`B3`) and NIR (`B5`) bands. The Landsat 8 MNDWI is calculated using the green (`B3`) and SWIR (`B6`) bands.\n",
    "\n",
    "![](https://i.imgur.com/yuZthc6.png)"
   ]
  },
  {
   "cell_type": "code",
   "execution_count": 25,
   "metadata": {},
   "outputs": [],
   "source": [
    "ndwi_2022 = landsat_2022.normalizedDifference(['B3', 'B5']).rename('NDWI')\n",
    "ndwi_2023 = landsat_2023.normalizedDifference(['B3', 'B5']).rename('NDWI')\n",
    "\n",
    "mndwi_2022 = landsat_2022.normalizedDifference(['B3', 'B6']).rename('MNDWI')\n",
    "mndwi_2023 = landsat_2023.normalizedDifference(['B3', 'B6']).rename('MNDWI')"
   ]
  },
  {
   "cell_type": "code",
   "execution_count": 26,
   "metadata": {},
   "outputs": [
    {
     "data": {
      "application/vnd.jupyter.widget-view+json": {
       "model_id": "ec21b189ab234822bcc246cb524cc1a5",
       "version_major": 2,
       "version_minor": 0
      },
      "text/plain": [
       "Map(center=[-3.6, -81.5], controls=(WidgetControl(options=['position', 'transparent_bg'], widget=HBox(children…"
      ]
     },
     "metadata": {},
     "output_type": "display_data"
    }
   ],
   "source": [
    "Map = geemap.Map()\n",
    "Map.setCenter(-81.5, -3.6, 7)\n",
    "\n",
    "ndwi_vis = {'min': -1, 'max': 1, 'palette': 'ndwi'}\n",
    "\n",
    "Map.addLayer(ndwi_2022, ndwi_vis, 'NDWI 2022')\n",
    "Map.addLayer(ndwi_2023, ndwi_vis, 'NDWI 2023')\n",
    "Map.addLayer(mndwi_2022, ndwi_vis, 'MNDWI 2022')\n",
    "Map.addLayer(mndwi_2023, ndwi_vis, 'MNDWI 2023')\n",
    "\n",
    "Map.addLayer(country.style(**style), {}, country_name)\n",
    "Map"
   ]
  },
  {
   "cell_type": "markdown",
   "metadata": {},
   "source": [
    "## Extract Landsat water extent\n",
    "\n",
    "To extract the water extent, we need to convert the NDWI images to binary images using a threshold value. The threshold value is usually set to 0.1 to 0.3. The smaller the threshold value, the more water bodies will be detected, which may increase the false positive rate. The larger the threshold value, the fewer water bodies will be detected, which may increase the false negative rate."
   ]
  },
  {
   "cell_type": "code",
   "execution_count": 31,
   "metadata": {},
   "outputs": [],
   "source": [
    "ndwi_threshold = 0.3877 # https://www.ncbi.nlm.nih.gov/pmc/articles/PMC6111878/\n",
    "ndwi_water_2022 = ndwi_2022.gt(ndwi_threshold)\n",
    "ndwi_water_2023 = ndwi_2023.gt(ndwi_threshold)\n",
    "\n",
    "mndwi_threshold = 0.35 # https://www.ncbi.nlm.nih.gov/pmc/articles/PMC6111878/\n",
    "mndwi_water_2022 = mndwi_2022.gt(mndwi_threshold)\n",
    "mndwi_water_2023 = mndwi_2023.gt(mndwi_threshold)"
   ]
  },
  {
   "cell_type": "markdown",
   "metadata": {},
   "source": [
    "Combine the pre-flood and surface water extent side by side."
   ]
  },
  {
   "cell_type": "code",
   "execution_count": 32,
   "metadata": {},
   "outputs": [
    {
     "data": {
      "application/vnd.jupyter.widget-view+json": {
       "model_id": "9ba80bbc58ae4f8fba3f05c228632668",
       "version_major": 2,
       "version_minor": 0
      },
      "text/plain": [
       "Map(center=[-3.6, -81.5], controls=(WidgetControl(options=['position', 'transparent_bg'], widget=HBox(children…"
      ]
     },
     "metadata": {},
     "output_type": "display_data"
    }
   ],
   "source": [
    "Map = geemap.Map()\n",
    "Map.setCenter(-81.5, -3.6, 7)\n",
    "\n",
    "Map.addLayer(landsat_2022, vis_params, 'Landsat 2022', False)\n",
    "Map.addLayer(landsat_2023, vis_params, 'Landsat 2023', False)\n",
    "\n",
    "Map.addLayer(ndwi_water_2022.selfMask(), {'palette': 'blue'}, 'NDWI Water 2022')\n",
    "Map.addLayer(ndwi_water_2023.selfMask(), {'palette': 'red'}, 'NDWI Water  2023')\n",
    "Map.addLayer(mndwi_water_2022.selfMask(), {'palette': 'yellow'}, 'MNDWI Water 2022')\n",
    "Map.addLayer(mndwi_water_2023.selfMask(), {'palette': 'orange'}, 'MNDWI Water 2023')\n",
    "\n",
    "Map.addLayer(country.style(**style), {}, country_name)\n",
    "Map"
   ]
  },
  {
   "cell_type": "markdown",
   "metadata": {},
   "source": [
    "## Extract Landsat flood extent\n",
    "\n",
    "To extract the flood extent, we need to subtract the pre-flood water extent from the flood water extent. The flood extent is the difference between the flood water extent and the pre-flood water extent. In other words, pixels identified as water in the flood period but not in the pre-flood period are considered as flooded pixels. The `selfMask()` method is used to mask out the no-data pixels."
   ]
  },
  {
   "cell_type": "code",
   "execution_count": 33,
   "metadata": {},
   "outputs": [],
   "source": [
    "ndwi_flood_extent = ndwi_water_2023.subtract(ndwi_water_2022).gt(0).selfMask()\n",
    "mndwi_flood_extent = mndwi_water_2023.subtract(mndwi_water_2022).gt(0).selfMask()"
   ]
  },
  {
   "cell_type": "markdown",
   "metadata": {},
   "source": [
    "Add the flood extent layer to the map."
   ]
  },
  {
   "cell_type": "code",
   "execution_count": 37,
   "metadata": {},
   "outputs": [
    {
     "data": {
      "application/vnd.jupyter.widget-view+json": {
       "model_id": "8ebe122e85d5488193b67379103baa7b",
       "version_major": 2,
       "version_minor": 0
      },
      "text/plain": [
       "Map(center=[-3.6, -81.5], controls=(WidgetControl(options=['position', 'transparent_bg'], widget=HBox(children…"
      ]
     },
     "metadata": {},
     "output_type": "display_data"
    }
   ],
   "source": [
    "Map = geemap.Map()\n",
    "Map.setCenter(-81.5, -3.6, 7)\n",
    "\n",
    "Map.addLayer(landsat_2022, vis_params, 'Landsat 2022', False)\n",
    "Map.addLayer(landsat_2023, vis_params, 'Landsat 2023', False)\n",
    "\n",
    "# Map.addLayer(ndwi_water_2022.selfMask(), {'palette': 'blue'}, 'NDWI Water 2022')\n",
    "# Map.addLayer(ndwi_water_2023.selfMask(), {'palette': 'red'}, 'NDWI Water  2023')\n",
    "# Map.addLayer(mndwi_water_2022.selfMask(), {'palette': 'yellow'}, 'MNDWI Water 2022')\n",
    "# Map.addLayer(mndwi_water_2023.selfMask(), {'palette': 'orange'}, 'MNDWI Water 2023')\n",
    "\n",
    "\n",
    "Map.addLayer(ndwi_flood_extent, {'palette': 'cyan'}, 'NDWI Flood Extent')\n",
    "Map.addLayer(mndwi_flood_extent, {'palette': 'magenta'}, 'MNDWI Flood Extent')\n",
    "\n",
    "Map.addLayer(country.style(**style), {}, country_name)\n",
    "Map"
   ]
  },
  {
   "cell_type": "markdown",
   "metadata": {},
   "source": [
    "## Calculate Landsat flood area\n",
    "\n",
    "To calculate the flood area, we can use the [`geemap.zonal_stats()`](https://geemap.org/common/#geemap.common.zonal_stats) function. The required input parameters are the flood extent layer and the country boundary layer. The `scale` parameter can be set to `1000` to specify the spatial resolution of image to be used for calculating the zonal statistics. The `stats_type` parameter can be set to `SUM` to calculate the total area of the flood extent in square kilometers. Set `return_fc=True` to return the zonal statistics as an `ee.FeatureCollection` object, which can be converted to a Pandas dataframe."
   ]
  },
  {
   "cell_type": "code",
   "execution_count": 35,
   "metadata": {},
   "outputs": [
    {
     "name": "stdout",
     "output_type": "stream",
     "text": [
      "Computing statistics ...\n"
     ]
    },
    {
     "data": {
      "text/html": [
       "<div>\n",
       "<style scoped>\n",
       "    .dataframe tbody tr th:only-of-type {\n",
       "        vertical-align: middle;\n",
       "    }\n",
       "\n",
       "    .dataframe tbody tr th {\n",
       "        vertical-align: top;\n",
       "    }\n",
       "\n",
       "    .dataframe thead th {\n",
       "        text-align: right;\n",
       "    }\n",
       "</style>\n",
       "<table border=\"1\" class=\"dataframe\">\n",
       "  <thead>\n",
       "    <tr style=\"text-align: right;\">\n",
       "      <th></th>\n",
       "      <th>sum</th>\n",
       "      <th>wld_rgn</th>\n",
       "      <th>country_na</th>\n",
       "      <th>abbreviati</th>\n",
       "      <th>country_co</th>\n",
       "    </tr>\n",
       "  </thead>\n",
       "  <tbody>\n",
       "    <tr>\n",
       "      <th>0</th>\n",
       "      <td>2316.592157</td>\n",
       "      <td>South America</td>\n",
       "      <td>Peru</td>\n",
       "      <td></td>\n",
       "      <td>PE</td>\n",
       "    </tr>\n",
       "  </tbody>\n",
       "</table>\n",
       "</div>"
      ],
      "text/plain": [
       "           sum        wld_rgn country_na abbreviati country_co\n",
       "0  2316.592157  South America       Peru                    PE"
      ]
     },
     "execution_count": 35,
     "metadata": {},
     "output_type": "execute_result"
    }
   ],
   "source": [
    "ndwi_flood_area = geemap.zonal_stats(\n",
    "    ndwi_flood_extent.selfMask(), country, scale=1000, statistics_type='SUM', return_fc=True\n",
    ")\n",
    "geemap.ee_to_df(ndwi_flood_area)"
   ]
  },
  {
   "cell_type": "markdown",
   "metadata": {},
   "source": [
    "NDWI - The total area of the flood extent is 2316 square kilometers based on Landsat 8 images."
   ]
  },
  {
   "cell_type": "code",
   "execution_count": 36,
   "metadata": {},
   "outputs": [
    {
     "name": "stdout",
     "output_type": "stream",
     "text": [
      "Computing statistics ...\n"
     ]
    },
    {
     "data": {
      "text/html": [
       "<div>\n",
       "<style scoped>\n",
       "    .dataframe tbody tr th:only-of-type {\n",
       "        vertical-align: middle;\n",
       "    }\n",
       "\n",
       "    .dataframe tbody tr th {\n",
       "        vertical-align: top;\n",
       "    }\n",
       "\n",
       "    .dataframe thead th {\n",
       "        text-align: right;\n",
       "    }\n",
       "</style>\n",
       "<table border=\"1\" class=\"dataframe\">\n",
       "  <thead>\n",
       "    <tr style=\"text-align: right;\">\n",
       "      <th></th>\n",
       "      <th>sum</th>\n",
       "      <th>wld_rgn</th>\n",
       "      <th>country_na</th>\n",
       "      <th>abbreviati</th>\n",
       "      <th>country_co</th>\n",
       "    </tr>\n",
       "  </thead>\n",
       "  <tbody>\n",
       "    <tr>\n",
       "      <th>0</th>\n",
       "      <td>40172.529412</td>\n",
       "      <td>South America</td>\n",
       "      <td>Peru</td>\n",
       "      <td></td>\n",
       "      <td>PE</td>\n",
       "    </tr>\n",
       "  </tbody>\n",
       "</table>\n",
       "</div>"
      ],
      "text/plain": [
       "            sum        wld_rgn country_na abbreviati country_co\n",
       "0  40172.529412  South America       Peru                    PE"
      ]
     },
     "execution_count": 36,
     "metadata": {},
     "output_type": "execute_result"
    }
   ],
   "source": [
    "mndwi_flood_area = geemap.zonal_stats(\n",
    "    mndwi_flood_extent.selfMask(), country, scale=1000, statistics_type='SUM', return_fc=True\n",
    ")\n",
    "geemap.ee_to_df(mndwi_flood_area)"
   ]
  },
  {
   "cell_type": "markdown",
   "metadata": {},
   "source": [
    "MNDWI - The total area of the flood extent is 40172 square kilometers based on Landsat 8 images."
   ]
  },
  {
   "cell_type": "code",
   "execution_count": null,
   "metadata": {},
   "outputs": [],
   "source": []
  }
 ],
 "metadata": {
  "kernelspec": {
   "display_name": "Python 3 (ipykernel)",
   "language": "python",
   "name": "python3"
  },
  "language_info": {
   "codemirror_mode": {
    "name": "ipython",
    "version": 3
   },
   "file_extension": ".py",
   "mimetype": "text/x-python",
   "name": "python",
   "nbconvert_exporter": "python",
   "pygments_lexer": "ipython3",
   "version": "3.10.10"
  },
  "vscode": {
   "interpreter": {
    "hash": "31f05ea183a4718249d13ada7f166c6bdba1d00716247af5c11c23af8d5923f1"
   }
  }
 },
 "nbformat": 4,
 "nbformat_minor": 4
}
