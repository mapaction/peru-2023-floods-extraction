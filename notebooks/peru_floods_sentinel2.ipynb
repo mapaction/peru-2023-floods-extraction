{
 "cells": [
  {
   "cell_type": "code",
   "execution_count": 2,
   "id": "cada450c-9a15-413f-9ca2-6501afc7c0f8",
   "metadata": {
    "tags": []
   },
   "outputs": [],
   "source": [
    "import ee\n",
    "import geemap"
   ]
  },
  {
   "cell_type": "code",
   "execution_count": 5,
   "id": "fe35655d-412a-4b26-959b-47775c18fe87",
   "metadata": {
    "tags": []
   },
   "outputs": [
    {
     "data": {
      "text/html": [
       "<p>To authorize access needed by Earth Engine, open the following\n",
       "        URL in a web browser and follow the instructions:</p>\n",
       "        <p><a href=https://code.earthengine.google.com/client-auth?scopes=https%3A//www.googleapis.com/auth/earthengine%20https%3A//www.googleapis.com/auth/devstorage.full_control&request_id=vziVOlJCyK1FJBZjfsaKER9QRCH0hJyTSCbxEDVn5CA&tc=jLnfKeatEtUjjaVmKVWBTldE-5GT3b1lalT31KAFln4&cc=bMCBkdotaukHMqTt2owsc44K1GLt3mzRJIQgUr8WYw8>https://code.earthengine.google.com/client-auth?scopes=https%3A//www.googleapis.com/auth/earthengine%20https%3A//www.googleapis.com/auth/devstorage.full_control&request_id=vziVOlJCyK1FJBZjfsaKER9QRCH0hJyTSCbxEDVn5CA&tc=jLnfKeatEtUjjaVmKVWBTldE-5GT3b1lalT31KAFln4&cc=bMCBkdotaukHMqTt2owsc44K1GLt3mzRJIQgUr8WYw8</a></p>\n",
       "        <p>The authorization workflow will generate a code, which you should paste in the box below.</p>\n",
       "        "
      ],
      "text/plain": [
       "<IPython.core.display.HTML object>"
      ]
     },
     "metadata": {},
     "output_type": "display_data"
    },
    {
     "name": "stdin",
     "output_type": "stream",
     "text": [
      "Enter verification code:  4/1AVHEtk5NAEnnoayWU_2Qf5oaUTrApxayj3RVxLsU_1rB3R4y9LmPVDmGHz4\n"
     ]
    },
    {
     "name": "stdout",
     "output_type": "stream",
     "text": [
      "\n",
      "Successfully saved authorization token.\n"
     ]
    }
   ],
   "source": [
    "ee.Authenticate()\n",
    "ee.Initialize()\n"
   ]
  },
  {
   "cell_type": "code",
   "execution_count": 43,
   "id": "4bc6a172-c0e9-428d-b2b2-b6f57f0c29b8",
   "metadata": {
    "tags": []
   },
   "outputs": [],
   "source": [
    "# Get Peru bounds\n",
    "country_name = 'Peru'\n",
    "\n",
    "country = ee.FeatureCollection('USDOS/LSIB_SIMPLE/2017').filter(\n",
    "    ee.Filter.eq('country_na', country_name)\n",
    ")\n",
    "\n",
    "r_lon = -80.458952\n",
    "r_lat = -3.575189\n",
    "r_poi = ee.Geometry.Point(r_lon, r_lat)\n",
    "roi = ee.FeatureCollection(r_poi.buffer(10000))\n",
    "\n",
    "\n",
    "\n",
    "start_date = '2022-01-01'\n",
    "end_date = '2023-05-16'"
   ]
  },
  {
   "cell_type": "code",
   "execution_count": 91,
   "id": "85cf8c26-3521-4099-ba72-2e236058a291",
   "metadata": {
    "tags": []
   },
   "outputs": [],
   "source": [
    "# https://developers.google.com/earth-engine/tutorials/community/sentinel-2-s2cloudless\n",
    "CLOUD_FILTER = 60\n",
    "CLD_PRB_THRESH = 40\n",
    "NIR_DRK_THRESH = 0.15\n",
    "CLD_PRJ_DIST = 2\n",
    "BUFFER = 100\n",
    "\n",
    "\n",
    "def get_s2_sr_cld_col(aoi, start_date, end_date):\n",
    "    # Import and filter S2 SR.\n",
    "    s2_sr_col = (ee.ImageCollection('COPERNICUS/S2_SR')\n",
    "        .filterBounds(aoi)\n",
    "        .filterDate(start_date, end_date)\n",
    "        .filter(ee.Filter.lte('CLOUDY_PIXEL_PERCENTAGE', CLOUD_FILTER)))\n",
    "\n",
    "    # Import and filter s2cloudless.\n",
    "    s2_cloudless_col = (ee.ImageCollection('COPERNICUS/S2_CLOUD_PROBABILITY')\n",
    "        .filterBounds(aoi)\n",
    "        .filterDate(start_date, end_date))\n",
    "\n",
    "    # Join the filtered s2cloudless collection to the SR collection by the 'system:index' property.\n",
    "    return ee.ImageCollection(ee.Join.saveFirst('s2cloudless').apply(**{\n",
    "        'primary': s2_sr_col,\n",
    "        'secondary': s2_cloudless_col,\n",
    "        'condition': ee.Filter.equals(**{\n",
    "            'leftField': 'system:index',\n",
    "            'rightField': 'system:index'\n",
    "        })\n",
    "    }))\n",
    "\n",
    "\n",
    "\n",
    "\n",
    "def add_cloud_bands(img):\n",
    "    # Get s2cloudless image, subset the probability band.\n",
    "    cld_prb = ee.Image(img.get('s2cloudless')).select('probability')\n",
    "\n",
    "    # Condition s2cloudless by the probability threshold value.\n",
    "    is_cloud = cld_prb.gt(CLD_PRB_THRESH).rename('clouds')\n",
    "\n",
    "    # Add the cloud probability layer and cloud mask as image bands.\n",
    "    return img.addBands(ee.Image([cld_prb, is_cloud]))\n",
    "\n",
    "\n",
    "def add_shadow_bands(img):\n",
    "    # Identify water pixels from the SCL band.\n",
    "    not_water = img.select('SCL').neq(6)\n",
    "\n",
    "    # Identify dark NIR pixels that are not water (potential cloud shadow pixels).\n",
    "    SR_BAND_SCALE = 1e4\n",
    "    dark_pixels = img.select('B8').lt(NIR_DRK_THRESH*SR_BAND_SCALE).multiply(not_water).rename('dark_pixels')\n",
    "\n",
    "    # Determine the direction to project cloud shadow from clouds (assumes UTM projection).\n",
    "    shadow_azimuth = ee.Number(90).subtract(ee.Number(img.get('MEAN_SOLAR_AZIMUTH_ANGLE')));\n",
    "\n",
    "    # Project shadows from clouds for the distance specified by the CLD_PRJ_DIST input.\n",
    "    cld_proj = (img.select('clouds').directionalDistanceTransform(shadow_azimuth, CLD_PRJ_DIST*10)\n",
    "        .reproject(**{'crs': img.select(0).projection(), 'scale': 100})\n",
    "        .select('distance')\n",
    "        .mask()\n",
    "        .rename('cloud_transform'))\n",
    "\n",
    "    # Identify the intersection of dark pixels with cloud shadow projection.\n",
    "    shadows = cld_proj.multiply(dark_pixels).rename('shadows')\n",
    "\n",
    "    # Add dark pixels, cloud projection, and identified shadows as image bands.\n",
    "    return img.addBands(ee.Image([dark_pixels, cld_proj, shadows]))\n",
    "\n",
    "def add_cld_shdw_mask(img):\n",
    "    # Add cloud component bands.\n",
    "    img_cloud = add_cloud_bands(img)\n",
    "\n",
    "    # Add cloud shadow component bands.\n",
    "    img_cloud_shadow = add_shadow_bands(img_cloud)\n",
    "\n",
    "    # Combine cloud and shadow mask, set cloud and shadow as value 1, else 0.\n",
    "    is_cld_shdw = img_cloud_shadow.select('clouds').add(img_cloud_shadow.select('shadows')).gt(0)\n",
    "\n",
    "    # Remove small cloud-shadow patches and dilate remaining pixels by BUFFER input.\n",
    "    # 20 m scale is for speed, and assumes clouds don't require 10 m precision.\n",
    "    is_cld_shdw = (is_cld_shdw.focalMin(2).focalMax(BUFFER*2/20)\n",
    "        .reproject(**{'crs': img.select([0]).projection(), 'scale': 20})\n",
    "        .rename('cloudmask'))\n",
    "\n",
    "    # Add the final cloud-shadow mask to the image.\n",
    "    return img_cloud_shadow.addBands(is_cld_shdw)\n",
    "\n",
    "def apply_cld_shdw_mask(img):\n",
    "    # Subset the cloudmask band and invert it so clouds/shadow are 0, else 1.\n",
    "    not_cld_shdw = img.select('cloudmask').Not()\n",
    "\n",
    "    # Subset reflectance bands and update their masks, return the result.\n",
    "    return img.select('B.*').updateMask(not_cld_shdw)\n",
    "\n",
    "\n",
    "s2cloudless_col = get_s2_sr_cld_col(country, start_date, end_date)\n",
    "\n",
    "s2_sr_median = (s2cloudless_col.map(add_cld_shdw_mask)\n",
    "                             .map(apply_cld_shdw_mask)\n",
    "                             .median()).clipToCollection(country)\n"
   ]
  },
  {
   "cell_type": "code",
   "execution_count": 92,
   "id": "27757bed-2a21-47ff-b87e-a1f1e026e909",
   "metadata": {
    "tags": []
   },
   "outputs": [
    {
     "data": {
      "application/vnd.jupyter.widget-view+json": {
       "model_id": "fecc0ef2ba804e5d82d43b7db8d33e69",
       "version_major": 2,
       "version_minor": 0
      },
      "text/plain": [
       "Map(center=[-3.575189, -80.458952], controls=(WidgetControl(options=['position', 'transparent_bg'], widget=HBo…"
      ]
     },
     "execution_count": 92,
     "metadata": {},
     "output_type": "execute_result"
    }
   ],
   "source": [
    "Map = geemap.Map()\n",
    "\n",
    "\n",
    "# Display on a map\n",
    "\n",
    "Map.addLayer(s2_sr_median, {'bands': ['B4', 'B3', 'B2'], 'min': 0, 'max': 2500, 'gamma': 1.1})\n",
    "\n",
    "style = {'color': 'black', 'fillColor': '00000000'}\n",
    "Map.addLayer(country.style(**style), {}, country_name)\n",
    "\n",
    "roi_style = {'color': 'red', 'fillColor': '00000000'}\n",
    "Map.addLayer(roi.style(**roi_style), {}, 'ROI')\n",
    "\n",
    "\n",
    "Map.setCenter(r_lon, r_lat, 12);\n",
    "Map"
   ]
  },
  {
   "cell_type": "markdown",
   "id": "c86f1b5d-cf0f-4b99-b3b5-71efd345c055",
   "metadata": {},
   "source": [
    "## Create quarterly images using the above procedure"
   ]
  },
  {
   "cell_type": "code",
   "execution_count": 93,
   "id": "bbee2af0-6438-472b-8cb8-492cfc6b57ab",
   "metadata": {
    "tags": []
   },
   "outputs": [],
   "source": [
    "# Dry season 1\n",
    "q1_start_date = '2022-04-23'\n",
    "q1_end_date = '2022-07-14'\n",
    "q1_s2 = get_s2_sr_cld_col(country, q1_start_date, q1_end_date)\n",
    "q1_s2_median = (q1_s2.map(add_cld_shdw_mask).map(apply_cld_shdw_mask).median()).clipToCollection(country)\n",
    "\n",
    "# Dry season 1\n",
    "q2_start_date = '2022-07-15'\n",
    "q2_end_date = '2022-10-15'\n",
    "q2_s2 = get_s2_sr_cld_col(country, q2_start_date, q2_end_date)\n",
    "q2_s2_median = (q2_s2.map(add_cld_shdw_mask).map(apply_cld_shdw_mask).median()).clipToCollection(country)\n",
    "\n",
    "# Dry season 2\n",
    "q3_start_date = '2022-10-16'\n",
    "q3_end_date = '2023-01-16'\n",
    "q3_s2 = get_s2_sr_cld_col(country, q3_start_date, q3_end_date)\n",
    "q3_s2_median = (q3_s2.map(add_cld_shdw_mask).map(apply_cld_shdw_mask).median()).clipToCollection(country)\n",
    "\n",
    "# Current flooding period in Tumbes https://weatherspark.com/y/18278/Average-Weather-in-Tumbes-Peru-Year-Round\n",
    "flood_start_date = '2023-01-17'\n",
    "flood_end_date = '2023-04-22'\n",
    "flood_s2 = get_s2_sr_cld_col(country, flood_start_date, flood_end_date)\n",
    "flood_s2_median = (flood_s2.map(add_cld_shdw_mask).map(apply_cld_shdw_mask).median()).clipToCollection(country)\n"
   ]
  },
  {
   "cell_type": "markdown",
   "id": "89fa7a29-56ea-41d9-ad05-6fd2b139d6e1",
   "metadata": {
    "tags": []
   },
   "source": [
    "## Calculate MNDWI for the composites"
   ]
  },
  {
   "cell_type": "code",
   "execution_count": 95,
   "id": "cad3cf18-f6f5-4c34-85e9-a41784e1d525",
   "metadata": {
    "tags": []
   },
   "outputs": [],
   "source": [
    "mndwi_q1 = q1_s2_median.normalizedDifference(['B3', 'B11']).rename('MNDWI')\n",
    "mndwi_q2 = q2_s2_median.normalizedDifference(['B3', 'B11']).rename('MNDWI')\n",
    "mndwi_q3 = q3_s2_median.normalizedDifference(['B3', 'B11']).rename('MNDWI')\n",
    "mndwi_flood = flood_s2_median.normalizedDifference(['B3', 'B11']).rename('MNDWI')"
   ]
  },
  {
   "cell_type": "code",
   "execution_count": 96,
   "id": "962884a3-fe41-4c9b-a04f-34699101c36c",
   "metadata": {
    "tags": []
   },
   "outputs": [
    {
     "data": {
      "application/vnd.jupyter.widget-view+json": {
       "model_id": "72b01991249e40629e8845742a2a619f",
       "version_major": 2,
       "version_minor": 0
      },
      "text/plain": [
       "Map(center=[-3.575189, -80.458952], controls=(WidgetControl(options=['position', 'transparent_bg'], widget=HBo…"
      ]
     },
     "execution_count": 96,
     "metadata": {},
     "output_type": "execute_result"
    }
   ],
   "source": [
    "Map = geemap.Map()\n",
    "\n",
    "ndwi_vis = {'min': -1, 'max': 1, 'palette': 'RdBu'}\n",
    "# Display on a map\n",
    "\n",
    "Map.addLayer(mndwi_q1, ndwi_vis, 'Q1 MNDWI')\n",
    "Map.addLayer(mndwi_q2, ndwi_vis, 'Q2 MNDWI')\n",
    "Map.addLayer(mndwi_q3, ndwi_vis, 'Q3 MNDWI')\n",
    "Map.addLayer(mndwi_flood, ndwi_vis, 'Flood MNDWI')\n",
    "\n",
    "style = {'color': 'black', 'fillColor': '00000000'}\n",
    "Map.addLayer(country.style(**style), {}, country_name)\n",
    "\n",
    "Map.setCenter(r_lon, r_lat, 12);\n",
    "Map"
   ]
  },
  {
   "cell_type": "markdown",
   "id": "5e00c449-30e1-4097-bc06-3fbacdaa0e01",
   "metadata": {},
   "source": [
    "## Threshold the composites"
   ]
  },
  {
   "cell_type": "code",
   "execution_count": 106,
   "id": "6505a027-ef86-4862-b38b-9330b63edb4a",
   "metadata": {
    "tags": []
   },
   "outputs": [],
   "source": [
    "mndwi_threshold = 0.35 # https://www.ncbi.nlm.nih.gov/pmc/articles/PMC6111878/\n",
    "mndwi_water_q1 = mndwi_q1.gt(mndwi_threshold)\n",
    "mndwi_water_q2 = mndwi_q2.gt(mndwi_threshold)\n",
    "mndwi_water_q3 = mndwi_q3.gt(mndwi_threshold)\n",
    "mndwi_water_flood = mndwi_flood.gt(mndwi_threshold)"
   ]
  },
  {
   "cell_type": "code",
   "execution_count": null,
   "id": "5961567a-9f1a-415a-9ee3-dc368479f832",
   "metadata": {
    "tags": []
   },
   "outputs": [],
   "source": [
    "Map = geemap.Map()\n",
    "Map.setCenter(-81.5, -3.6, 7)\n",
    "\n",
    "Map.addLayer(mndwi_water_q1.selfMask(), {'palette': 'blue'}, 'mndwi_water_q1')\n",
    "Map.addLayer(mndwi_water_q2.selfMask(), {'palette': 'red'}, 'mndwi_water_q2')\n",
    "Map.addLayer(mndwi_water_q3.selfMask(), {'palette': 'yellow'}, 'mndwi_water_q3')\n",
    "Map.addLayer(mndwi_water_flood.selfMask(), {'palette': 'orange'}, 'mndwi_water_flood')\n",
    "\n",
    "Map.addLayer(country.style(**style), {}, country_name)\n",
    "Map"
   ]
  },
  {
   "cell_type": "markdown",
   "id": "59e17aa5-ac59-4625-b193-8806f1d5a21c",
   "metadata": {},
   "source": [
    "## Calculate the flood extent from the max - min"
   ]
  },
  {
   "cell_type": "code",
   "execution_count": null,
   "id": "8dfb6099-9258-4e45-8346-e727e02d9b77",
   "metadata": {
    "tags": []
   },
   "outputs": [],
   "source": [
    "mndwi_flood_extent = mndwi_water_flood.subtract(mndwi_water_q3).gt(0).selfMask()"
   ]
  },
  {
   "cell_type": "code",
   "execution_count": null,
   "id": "e4cb8e3c-907a-45da-902e-6b6e01158bf1",
   "metadata": {
    "tags": []
   },
   "outputs": [],
   "source": [
    "Map = geemap.Map()\n",
    "Map.setCenter(-81.5, -3.6, 10)\n",
    "\n",
    "Map.addLayer(mndwi_flood_extent, {'palette': 'magenta'}, 'MNDWI Flood Extent')\n",
    "\n",
    "Map.addLayer(country.style(**style), {}, country_name)\n",
    "Map"
   ]
  },
  {
   "cell_type": "code",
   "execution_count": null,
   "id": "e05f2f0e-4d94-4dcf-9be3-1fd5704d4609",
   "metadata": {},
   "outputs": [],
   "source": []
  }
 ],
 "metadata": {
  "kernelspec": {
   "display_name": "Python 3 (ipykernel)",
   "language": "python",
   "name": "python3"
  },
  "language_info": {
   "codemirror_mode": {
    "name": "ipython",
    "version": 3
   },
   "file_extension": ".py",
   "mimetype": "text/x-python",
   "name": "python",
   "nbconvert_exporter": "python",
   "pygments_lexer": "ipython3",
   "version": "3.9.16"
  }
 },
 "nbformat": 4,
 "nbformat_minor": 5
}
